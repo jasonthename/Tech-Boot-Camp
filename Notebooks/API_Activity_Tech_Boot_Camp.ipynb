{
  "nbformat": 4,
  "nbformat_minor": 0,
  "metadata": {
    "colab": {
      "provenance": []
    },
    "kernelspec": {
      "name": "python3",
      "display_name": "Python 3"
    },
    "language_info": {
      "name": "python"
    }
  },
  "cells": [
    {
      "cell_type": "markdown",
      "source": [
        "## Sample API usage with GET requests\n",
        "\n",
        "<p>Use this example code block to assist yourself in doing Question #1 and further.</p>"
      ],
      "metadata": {
        "id": "THDGERhwLYWt"
      }
    },
    {
      "cell_type": "code",
      "execution_count": null,
      "metadata": {
        "id": "0O4EXRooK0Tv"
      },
      "outputs": [],
      "source": [
        "import requests\n",
        "\n",
        "#Set the url variable equal to the web address string\n",
        "url = ''\n",
        "\n",
        "#Send the GET request to the url to retreive information and store it inside the response variable\n",
        "response = requests.get(url)\n",
        "\n",
        "#Output the response from the API\n",
        "print(response.text)"
      ]
    },
    {
      "cell_type": "markdown",
      "source": [
        "## Question #1 - IPInfo IP Address API (**0 Marks** - Informational)\n",
        "\n",
        "<p>This API tells you information about your public IP address and the City which your public IP address belongs to.</p>"
      ],
      "metadata": {
        "id": "1tYRSDFjLjcv"
      }
    },
    {
      "cell_type": "code",
      "source": [
        "import requests\n",
        "from IPython.display import Image, display\n",
        "\n",
        "url = \"https://ipinfo.io/json\"\n",
        "\n",
        "response = requests.get(url)\n",
        "status_code = response.status_code\n",
        "\n",
        "cat_image = requests.get(f'https://http.cat/{status_code}')\n",
        "\n",
        "print(response.text)\n",
        "\n",
        "# Display the cat image if the request was successful\n",
        "if status_code == 200:\n",
        "  display(Image(cat_image.content))\n",
        "else:\n",
        "  print(f\"Could not display image for status code {status_code}\")"
      ],
      "metadata": {
        "id": "u6YpY-RIL7s5"
      },
      "execution_count": null,
      "outputs": []
    },
    {
      "cell_type": "markdown",
      "source": [
        "## Question 1 - Extracting the IP and Region from the API (**5 Marks**)\n",
        "\n",
        "**TODO:** Print the following text at the bottom of this code block:\n",
        "\n",
        "`Your public IP address is: {IP} and the weather in the {region} is {weather}.`\n",
        "\n",
        "ℹ️ Hint: Use the weather API and pass the **region** variable into the part where we last put **city** inside of it."
      ],
      "metadata": {
        "id": "R9v3pSUeNPTD"
      }
    },
    {
      "cell_type": "code",
      "metadata": {
        "id": "e7d4b520"
      },
      "source": [
        "import json\n",
        "\n",
        "# Assuming the JSON response is stored in the 'response' variable from the previous cell\n",
        "data = json.loads(response.text)\n",
        "\n",
        "# Extract 'ip' and 'region'\n",
        "ip_address = data.get('ip')\n",
        "region = data.get('region')\n",
        "\n",
        "weather_text = requests.get(f\"https://wttr.in/{region}?format=3\").text\n",
        "weather_code = requests.get(f\"https://wttr.in/{region}?format=3\").status_code\n",
        "\n",
        "weather_text = weather_text.split(\":\", 1)[-1].strip()\n",
        "\n",
        "'''\n",
        "\n",
        "Type your code answer at the bottom here for Question #1\n",
        "\n",
        "'''\n",
        "\n",
        "weather_code = response.status_code\n",
        "\n",
        "cat_image = requests.get(f'https://http.cat/{weather_code}')\n",
        "\n",
        "# Display the cat image for the request\n",
        "display(Image(cat_image.content))"
      ],
      "execution_count": null,
      "outputs": []
    },
    {
      "cell_type": "markdown",
      "source": [
        "### Don't be afraid to test your code by running it again and again until you arrive at your desired outcome."
      ],
      "metadata": {
        "id": "iKhQSzsMQLJt"
      }
    },
    {
      "cell_type": "markdown",
      "source": [
        "## Question #2 - Explain this one line (**2 Marks**)\n",
        "\n",
        "ℹ️ Hint: Try removing it from Question #1's weather section and run your code without it."
      ],
      "metadata": {
        "id": "rLwNBfFcQuyQ"
      }
    },
    {
      "cell_type": "code",
      "source": [
        "'''\n",
        "Explain what this one line of code does:\n",
        "\n",
        "weather_text = weather_text.split(\":\", 1)[-1].strip()\n",
        "\n",
        "TYPE YOUR ANSWER BELOW HERE ⬇️\n",
        "\n",
        "'''"
      ],
      "metadata": {
        "id": "pRNfZOWNQ6bg"
      },
      "execution_count": null,
      "outputs": []
    },
    {
      "cell_type": "markdown",
      "source": [
        "## Question #3 - Get the cat image for the GET request response code to this URL (**10 Marks**)\n",
        "\n",
        "**TODO:** Send a GET request to the **url** listed and collect the status code. Display the cat image for the status code observed.\n",
        "\n",
        "ℹ️ Hint: Use the example from Question #1."
      ],
      "metadata": {
        "id": "r2AyioVxU8YC"
      }
    },
    {
      "cell_type": "code",
      "source": [
        "url = 'https://google.com/dingleburtlikespython'\n",
        "\n",
        "'''\n",
        "\n",
        "Type your code answer at the bottom here for Question #3\n",
        "\n",
        "'''"
      ],
      "metadata": {
        "id": "gz-xbabqU6pF"
      },
      "execution_count": null,
      "outputs": []
    }
  ]
}